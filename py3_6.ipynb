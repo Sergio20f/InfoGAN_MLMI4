{
  "cells": [
    {
      "cell_type": "code",
      "execution_count": 1,
      "metadata": {
        "id": "j9AZgv3SZgZ9"
      },
      "outputs": [],
      "source": [
        "%%capture\n",
        "!sudo apt-get install python3.6\n",
        "!sudo update-alternatives --install /usr/bin/python3 python3 /usr/bin/python3.6 1\n",
        "!sudo update-alternatives --config python3\n",
        "!sudo apt-get install python3.6-distutils\n",
        "!wget https://bootstrap.pypa.io/get-pip.py\n",
        "!sudo apt install python3-pip\n",
        "!python -m pip install --upgrade pip\n",
        "!pip install pytorch==1.0.2 torchvision==0.2.1\n",
        "!pip install numpy==1.14.3\n",
        "!pip install matplotlib==2.2.2\n",
        "!pip install cudnn==7.6.5\n",
        "!pip install cudatoolkit==9.0\n",
        "!pip install ipykernel\n",
        "import sys\n",
        "sys.path.append(\"InfoGAN-PyTorch\")\n",
        "import matplotlib.pyplot as plt\n",
        "!mkdir InfoGAN-PyTorch/checkpoints/"
      ]
    },
    {
      "cell_type": "code",
      "execution_count": null,
      "metadata": {
        "colab": {
          "base_uri": "https://localhost:8080/"
        },
        "id": "FsEgcpYIfRkC",
        "outputId": "91dfbe6a-1963-4095-8903-b77f4163d70a"
      },
      "outputs": [],
      "source": [
        "# train.py line 149 -> label.to(torch.float32)\n",
        "!python 'InfoGAN-PyTorch/train.py'"
      ]
    }
  ],
  "metadata": {
    "accelerator": "GPU",
    "colab": {
      "provenance": []
    },
    "gpuClass": "standard",
    "kernelspec": {
      "display_name": "Python 3",
      "name": "python3"
    },
    "language_info": {
      "name": "python"
    }
  },
  "nbformat": 4,
  "nbformat_minor": 0
}
