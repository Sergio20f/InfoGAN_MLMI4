{
 "cells": [
  {
   "cell_type": "code",
   "execution_count": null,
   "metadata": {},
   "outputs": [],
   "source": [
    "# Only for Google Colab - clone repo and add to path.\n",
    "import sys\n",
    "import os\n",
    "\n",
    "!git clone https://github.com/Sergio20f/InfoGAN_MLMI4.git\n",
    "\n",
    "path_to_module = '/content/InfoGAN_MLMI4'\n",
    "os.chdir(path_to_module)\n",
    "sys.path.append(path_to_module)"
   ]
  },
  {
   "cell_type": "code",
   "execution_count": null,
   "metadata": {},
   "outputs": [],
   "source": [
    "# Use ! for Google Colab, % for VSCode\n",
    "!pip install torch torchvision\n",
    "!pip install tensorboardX"
   ]
  },
  {
   "cell_type": "code",
   "execution_count": null,
   "metadata": {},
   "outputs": [],
   "source": [
    "import torch\n",
    "import matplotlib.pyplot as plt\n",
    "\n",
    "from GAN import Generator\n",
    "from utils import sample_noise"
   ]
  },
  {
   "cell_type": "code",
   "execution_count": null,
   "metadata": {},
   "outputs": [],
   "source": [
    "# If the model has not been trained:\n",
    "!python3 train.py"
   ]
  },
  {
   "attachments": {},
   "cell_type": "markdown",
   "metadata": {},
   "source": [
    "### Load the trained generator network"
   ]
  },
  {
   "cell_type": "code",
   "execution_count": null,
   "metadata": {},
   "outputs": [],
   "source": [
    "DEVICE = torch.device('cuda' if torch.cuda.is_available() else 'cpu')\n",
    "PATH_TO_MODEL = \"path/to/checkpoint.pt\" # SPECIFY\n",
    "\n",
    "# Laod the saved model/checkpoint\n",
    "model = torch.load(PATH_TO_MODEL)\n",
    "\n",
    "# Instantiate the generator and load its state dictionary from the checkpoint\n",
    "G = Generator()\n",
    "G.load_state_dict(model[\"G_state_dict\"])"
   ]
  },
  {
   "attachments": {},
   "cell_type": "markdown",
   "metadata": {},
   "source": [
    "### Run to generate a sample image"
   ]
  },
  {
   "cell_type": "code",
   "execution_count": null,
   "metadata": {},
   "outputs": [],
   "source": [
    "# Keep these consistent with the value in train.py\n",
    "n_c_discrete = 10\n",
    "n_noise = 62\n",
    "n_c_continuous = 2\n",
    "\n",
    "G = G.to(DEVICE)\n",
    "\n",
    "# Put the generator in evaluation mode\n",
    "G.eval()\n",
    "\n",
    "with torch.no_grad():\n",
    "    # TODO: modifay so we can set concrete values for latent codes (not random).\n",
    "    z, c = sample_noise(1, n_noise, n_c_discrete, n_c_continuous, supervised=False)\n",
    "    c_discrete_code = torch.max(c[:, :-2], 1)[1].view(-1, 1)\n",
    "    print(\"Code: \" + str(c_discrete_code[0][0]))\n",
    "    fake_images = G(z, c)\n",
    "\n",
    "# Show the generated image\n",
    "plt.imshow(fake_images.squeeze().detach().cpu(), cmap='gray')\n",
    "plt.show()"
   ]
  }
 ],
 "metadata": {
  "kernelspec": {
   "display_name": "info2",
   "language": "python",
   "name": "python3"
  },
  "language_info": {
   "name": "python",
   "version": "3.6.5"
  },
  "orig_nbformat": 4,
  "vscode": {
   "interpreter": {
    "hash": "999bd6f6b42c287a72d5d73fa3c92a10a35ac3750e65bc80ca351872ad7d2ad4"
   }
  }
 },
 "nbformat": 4,
 "nbformat_minor": 2
}
