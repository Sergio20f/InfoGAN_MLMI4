{
 "cells": [
  {
   "cell_type": "code",
   "execution_count": null,
   "metadata": {},
   "outputs": [],
   "source": [
    "# Use ! for Google Colab, % for VSCode\n",
    "!pip install torch torchvision\n",
    "!pip install tensorboardX"
   ]
  },
  {
   "cell_type": "code",
   "execution_count": null,
   "metadata": {},
   "outputs": [],
   "source": [
    "import torch\n",
    "import matplotlib.pyplot as plt\n",
    "\n",
    "from GAN import Generator\n",
    "from utils import sample_c_discrete"
   ]
  },
  {
   "cell_type": "code",
   "execution_count": null,
   "metadata": {},
   "outputs": [],
   "source": [
    "# If the model has not been trained:\n",
    "!python3 train.py"
   ]
  },
  {
   "attachments": {},
   "cell_type": "markdown",
   "metadata": {},
   "source": [
    "### Load the trained generator network"
   ]
  },
  {
   "cell_type": "code",
   "execution_count": null,
   "metadata": {},
   "outputs": [],
   "source": [
    "DEVICE = torch.device('cuda' if torch.cuda.is_available() else 'cpu')\n",
    "PATH_TO_MODEL = \"path/to/checkpoint.pt\" # SPECIFY\n",
    "\n",
    "# Laod the saved model/checkpoint\n",
    "model = torch.load(PATH_TO_MODEL)\n",
    "\n",
    "# Instantiate the generator and load its state dictionary from the checkpoint\n",
    "G = Generator()\n",
    "G.load_state_dict(model[\"G_state_dict\"])"
   ]
  },
  {
   "attachments": {},
   "cell_type": "markdown",
   "metadata": {},
   "source": [
    "### Run to generate a sample image"
   ]
  },
  {
   "cell_type": "code",
   "execution_count": null,
   "metadata": {},
   "outputs": [],
   "source": [
    "# TO-DO: Recheck if this actually makes sense. Do we also need c_continuous?\n",
    "# Keep these consistent with the value in train.py\n",
    "n_c_discrete = 10\n",
    "n_noise = 62\n",
    "\n",
    "# Put the generator in evaluation mode\n",
    "G.eval()\n",
    "\n",
    "with torch.no_grad():\n",
    "    noise = torch.randn(1, n_noise, device=DEVICE)\n",
    "    c = sample_c_discrete(n_c_discrete)\n",
    "    c = torch.from_numpy(c).float().to(DEVICE)\n",
    "    fake_images = G(noise, c)\n",
    "\n",
    "# Show the generated image\n",
    "plt.imshow(fake_images.squeeze().detach().cpu(), cmap='gray')\n",
    "plt.show()"
   ]
  }
 ],
 "metadata": {
  "kernelspec": {
   "display_name": "info2",
   "language": "python",
   "name": "python3"
  },
  "language_info": {
   "name": "python",
   "version": "3.10.9 (main, Jan 11 2023, 15:21:40) [GCC 11.2.0]"
  },
  "orig_nbformat": 4,
  "vscode": {
   "interpreter": {
    "hash": "999bd6f6b42c287a72d5d73fa3c92a10a35ac3750e65bc80ca351872ad7d2ad4"
   }
  }
 },
 "nbformat": 4,
 "nbformat_minor": 2
}
