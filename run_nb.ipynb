{
  "cells": [
    {
      "cell_type": "code",
      "source": [
        "!rm -r /content/sample_data"
      ],
      "metadata": {
        "id": "ViJAC05VVWYs"
      },
      "execution_count": null,
      "outputs": []
    },
    {
      "cell_type": "code",
      "execution_count": null,
      "metadata": {
        "colab": {
          "base_uri": "https://localhost:8080/"
        },
        "id": "uroh1xvOVALD",
        "outputId": "f14c2f4a-66f7-4a6d-f517-622d5d092240"
      },
      "outputs": [
        {
          "output_type": "stream",
          "name": "stdout",
          "text": [
            "Cloning into 'InfoGAN_MLMI4'...\n",
            "remote: Enumerating objects: 83, done.\u001b[K\n",
            "remote: Counting objects: 100% (83/83), done.\u001b[K\n",
            "remote: Compressing objects: 100% (62/62), done.\u001b[K\n",
            "remote: Total 83 (delta 31), reused 47 (delta 16), pack-reused 0\u001b[K\n",
            "Unpacking objects: 100% (83/83), 179.06 KiB | 1.92 MiB/s, done.\n",
            "Branch 'wgan' set up to track remote branch 'wgan' from 'origin'.\n",
            "Switched to a new branch 'wgan'\n"
          ]
        }
      ],
      "source": [
        "# Only for Google Colab - clone repo and add to path.\n",
        "import sys\n",
        "import os\n",
        "\n",
        "!git clone https://github.com/Sergio20f/InfoGAN_MLMI4.git\n",
        "\n",
        "path_to_module = '/content/InfoGAN_MLMI4'\n",
        "os.chdir(path_to_module)\n",
        "sys.path.append(path_to_module)\n",
        "\n",
        "!git checkout wgan"
      ]
    },
    {
      "cell_type": "code",
      "execution_count": null,
      "metadata": {
        "colab": {
          "base_uri": "https://localhost:8080/"
        },
        "id": "uYlL5gSnVALG",
        "outputId": "38f8919e-d4be-4461-c56a-a79ac014ca2a"
      },
      "outputs": [
        {
          "output_type": "stream",
          "name": "stdout",
          "text": [
            "Looking in indexes: https://pypi.org/simple, https://us-python.pkg.dev/colab-wheels/public/simple/\n",
            "Requirement already satisfied: torch in /usr/local/lib/python3.9/dist-packages (1.13.1+cu116)\n",
            "Requirement already satisfied: torchvision in /usr/local/lib/python3.9/dist-packages (0.14.1+cu116)\n",
            "Requirement already satisfied: typing-extensions in /usr/local/lib/python3.9/dist-packages (from torch) (4.5.0)\n",
            "Requirement already satisfied: requests in /usr/local/lib/python3.9/dist-packages (from torchvision) (2.25.1)\n",
            "Requirement already satisfied: pillow!=8.3.*,>=5.3.0 in /usr/local/lib/python3.9/dist-packages (from torchvision) (8.4.0)\n",
            "Requirement already satisfied: numpy in /usr/local/lib/python3.9/dist-packages (from torchvision) (1.22.4)\n",
            "Requirement already satisfied: chardet<5,>=3.0.2 in /usr/local/lib/python3.9/dist-packages (from requests->torchvision) (4.0.0)\n",
            "Requirement already satisfied: idna<3,>=2.5 in /usr/local/lib/python3.9/dist-packages (from requests->torchvision) (2.10)\n",
            "Requirement already satisfied: certifi>=2017.4.17 in /usr/local/lib/python3.9/dist-packages (from requests->torchvision) (2022.12.7)\n",
            "Requirement already satisfied: urllib3<1.27,>=1.21.1 in /usr/local/lib/python3.9/dist-packages (from requests->torchvision) (1.26.14)\n",
            "Looking in indexes: https://pypi.org/simple, https://us-python.pkg.dev/colab-wheels/public/simple/\n",
            "Collecting tensorboardX\n",
            "  Downloading tensorboardX-2.6-py2.py3-none-any.whl (114 kB)\n",
            "\u001b[2K     \u001b[90m━━━━━━━━━━━━━━━━━━━━━━━━━━━━━━━━━━━━━━━\u001b[0m \u001b[32m114.5/114.5 KB\u001b[0m \u001b[31m3.4 MB/s\u001b[0m eta \u001b[36m0:00:00\u001b[0m\n",
            "\u001b[?25hRequirement already satisfied: protobuf<4,>=3.8.0 in /usr/local/lib/python3.9/dist-packages (from tensorboardX) (3.19.6)\n",
            "Requirement already satisfied: numpy in /usr/local/lib/python3.9/dist-packages (from tensorboardX) (1.22.4)\n",
            "Requirement already satisfied: packaging in /usr/local/lib/python3.9/dist-packages (from tensorboardX) (23.0)\n",
            "Installing collected packages: tensorboardX\n",
            "Successfully installed tensorboardX-2.6\n"
          ]
        }
      ],
      "source": [
        "# Use ! for Google Colab, % for VSCode\n",
        "!pip install torch torchvision\n",
        "!pip install tensorboardX"
      ]
    },
    {
      "cell_type": "code",
      "execution_count": null,
      "metadata": {
        "id": "tmL6nfleVALG"
      },
      "outputs": [],
      "source": [
        "import torch\n",
        "import matplotlib.pyplot as plt\n",
        "\n",
        "from WGAN import W_Generator\n",
        "from utils import sample_noise"
      ]
    },
    {
      "cell_type": "code",
      "execution_count": null,
      "metadata": {
        "colab": {
          "base_uri": "https://localhost:8080/"
        },
        "id": "kznt1Dw4VALH",
        "outputId": "42997e43-1060-4273-8924-91c9eda99248"
      },
      "outputs": [
        {
          "output_type": "stream",
          "name": "stdout",
          "text": [
            "Downloading http://yann.lecun.com/exdb/mnist/train-images-idx3-ubyte.gz\n",
            "Downloading http://yann.lecun.com/exdb/mnist/train-images-idx3-ubyte.gz to ./data/MNIST/raw/train-images-idx3-ubyte.gz\n",
            "\r  0% 0/9912422 [00:00<?, ?it/s]\r 87% 8617984/9912422 [00:00<00:00, 84441880.67it/s]\r100% 9912422/9912422 [00:00<00:00, 94735272.69it/s]\n",
            "Extracting ./data/MNIST/raw/train-images-idx3-ubyte.gz to ./data/MNIST/raw\n",
            "\n",
            "Downloading http://yann.lecun.com/exdb/mnist/train-labels-idx1-ubyte.gz\n",
            "Downloading http://yann.lecun.com/exdb/mnist/train-labels-idx1-ubyte.gz to ./data/MNIST/raw/train-labels-idx1-ubyte.gz\n",
            "100% 28881/28881 [00:00<00:00, 49402811.51it/s]\n",
            "Extracting ./data/MNIST/raw/train-labels-idx1-ubyte.gz to ./data/MNIST/raw\n",
            "\n",
            "Downloading http://yann.lecun.com/exdb/mnist/t10k-images-idx3-ubyte.gz\n",
            "Downloading http://yann.lecun.com/exdb/mnist/t10k-images-idx3-ubyte.gz to ./data/MNIST/raw/t10k-images-idx3-ubyte.gz\n",
            "100% 1648877/1648877 [00:00<00:00, 23915441.87it/s]\n",
            "Extracting ./data/MNIST/raw/t10k-images-idx3-ubyte.gz to ./data/MNIST/raw\n",
            "\n",
            "Downloading http://yann.lecun.com/exdb/mnist/t10k-labels-idx1-ubyte.gz\n",
            "Downloading http://yann.lecun.com/exdb/mnist/t10k-labels-idx1-ubyte.gz to ./data/MNIST/raw/t10k-labels-idx1-ubyte.gz\n",
            "100% 4542/4542 [00:00<00:00, 31803887.76it/s]\n",
            "Extracting ./data/MNIST/raw/t10k-labels-idx1-ubyte.gz to ./data/MNIST/raw\n",
            "\n",
            "Epoch: 1/50, Step: 500, D Loss: 9.986943244934082, G Loss: -0.009261479601264, GnQ Loss: 2.478994369506836, Time: 2023-03-08 17:50:20\n",
            "Epoch: 2/50, Step: 1000, D Loss: 9.995347023010254, G Loss: -0.006607460789382458, GnQ Loss: 2.4739625453948975, Time: 2023-03-08 17:50:43\n",
            "Epoch: 3/50, Step: 1500, D Loss: 9.998834609985352, G Loss: -0.0031475399155169725, GnQ Loss: 2.4748141765594482, Time: 2023-03-08 17:51:07\n",
            "Epoch: 4/50, Step: 2000, D Loss: 9.986953735351562, G Loss: -0.0006233251187950373, GnQ Loss: 2.4680659770965576, Time: 2023-03-08 17:51:31\n",
            "Epoch: 5/50, Step: 2500, D Loss: 9.978955268859863, G Loss: -0.0023829438723623753, GnQ Loss: 2.478954315185547, Time: 2023-03-08 17:51:54\n",
            "Epoch: 6/50, Step: 3000, D Loss: 9.985238075256348, G Loss: -0.0032245279289782047, GnQ Loss: 2.4774553775787354, Time: 2023-03-08 17:52:18\n",
            "Epoch: 7/50, Step: 3500, D Loss: 9.978385925292969, G Loss: -0.004668832756578922, GnQ Loss: 2.469865083694458, Time: 2023-03-08 17:52:42\n",
            "Epoch: 8/50, Step: 4000, D Loss: 9.975533485412598, G Loss: -0.007815047167241573, GnQ Loss: 2.4489927291870117, Time: 2023-03-08 17:53:06\n",
            "Epoch: 9/50, Step: 4500, D Loss: 9.977652549743652, G Loss: -0.004477749578654766, GnQ Loss: 2.475757360458374, Time: 2023-03-08 17:53:30\n",
            "Epoch: 10/50, Step: 5000, D Loss: 9.983449935913086, G Loss: -0.0051735769957304, GnQ Loss: 2.4555134773254395, Time: 2023-03-08 17:53:53\n",
            "Epoch: 11/50, Step: 5500, D Loss: 9.986797332763672, G Loss: -0.0034859294537454844, GnQ Loss: 2.4714930057525635, Time: 2023-03-08 17:54:17\n",
            "Epoch: 12/50, Step: 6000, D Loss: 9.986544609069824, G Loss: 0.0019586135167628527, GnQ Loss: 2.465566396713257, Time: 2023-03-08 17:54:41\n",
            "Epoch: 13/50, Step: 6500, D Loss: 9.991320610046387, G Loss: 0.006142056547105312, GnQ Loss: 2.474321126937866, Time: 2023-03-08 17:55:05\n",
            "Epoch: 14/50, Step: 7000, D Loss: 9.984966278076172, G Loss: 0.010218659415841103, GnQ Loss: 2.495955467224121, Time: 2023-03-08 17:55:28\n",
            "Epoch: 16/50, Step: 7500, D Loss: 9.980560302734375, G Loss: 0.011546457186341286, GnQ Loss: 2.484226942062378, Time: 2023-03-08 17:55:52\n",
            "Epoch: 17/50, Step: 8000, D Loss: 9.982307434082031, G Loss: 0.011227053590118885, GnQ Loss: 2.488684892654419, Time: 2023-03-08 17:56:16\n",
            "Epoch: 18/50, Step: 8500, D Loss: 9.983832359313965, G Loss: 0.010012809187173843, GnQ Loss: 2.4968788623809814, Time: 2023-03-08 17:56:40\n",
            "Epoch: 19/50, Step: 9000, D Loss: 9.986757278442383, G Loss: 0.009575633332133293, GnQ Loss: 2.485135078430176, Time: 2023-03-08 17:57:03\n",
            "Epoch: 20/50, Step: 9500, D Loss: 9.98311710357666, G Loss: 0.010403387248516083, GnQ Loss: 2.490659236907959, Time: 2023-03-08 17:57:27\n",
            "Epoch: 21/50, Step: 10000, D Loss: 9.97675895690918, G Loss: 0.007298215292394161, GnQ Loss: 2.475045919418335, Time: 2023-03-08 17:57:51\n",
            "Traceback (most recent call last):\n",
            "  File \"/usr/local/lib/python3.9/dist-packages/torch/utils/data/dataloader.py\", line 628, in __next__\n",
            "    data = self._next_data()\n",
            "  File \"/usr/local/lib/python3.9/dist-packages/torch/utils/data/dataloader.py\", line 671, in _next_data\n",
            "    data = self._dataset_fetcher.fetch(index)  # may raise StopIteration\n",
            "  File \"/usr/local/lib/python3.9/dist-packages/torch/utils/data/_utils/fetch.py\", line 58, in fetch\n",
            "    data = [self.dataset[idx] for idx in possibly_batched_index]\n",
            "  File \"/usr/local/lib/python3.9/dist-packages/torch/utils/data/_utils/fetch.py\", line 58, in <listcomp>\n",
            "    data = [self.dataset[idx] for idx in possibly_batched_index]\n",
            "  File \"/usr/local/lib/python3.9/dist-packages/torchvision/datasets/mnist.py\", line 145, in __getitem__\n",
            "    img = self.transform(img)\n",
            "  File \"/usr/local/lib/python3.9/dist-packages/torchvision/transforms/transforms.py\", line 95, in __call__\n",
            "    img = t(img)\n",
            "  File \"/usr/local/lib/python3.9/dist-packages/torch/nn/modules/module.py\", line 1194, in _call_impl\n",
            "    return forward_call(*input, **kwargs)\n",
            "  File \"/usr/local/lib/python3.9/dist-packages/torchvision/transforms/transforms.py\", line 270, in forward\n",
            "    return F.normalize(tensor, self.mean, self.std, self.inplace)\n",
            "  File \"/usr/local/lib/python3.9/dist-packages/torchvision/transforms/functional.py\", line 360, in normalize\n",
            "    return F_t.normalize(tensor, mean=mean, std=std, inplace=inplace)\n",
            "  File \"/usr/local/lib/python3.9/dist-packages/torchvision/transforms/functional_tensor.py\", line 933, in normalize\n",
            "    std = torch.as_tensor(std, dtype=dtype, device=tensor.device)\n",
            "KeyboardInterrupt\n",
            "\n",
            "During handling of the above exception, another exception occurred:\n",
            "\n",
            "Traceback (most recent call last):\n",
            "  File \"/content/InfoGAN_MLMI4/w_train.py\", line 71, in <module>\n",
            "    for idx, (images, labels) in enumerate(dataloader):\n",
            "  File \"/usr/local/lib/python3.9/dist-packages/torch/utils/data/dataloader.py\", line 641, in __next__\n",
            "    return data\n",
            "  File \"/usr/local/lib/python3.9/dist-packages/torch/autograd/profiler.py\", line 493, in __exit__\n",
            "    torch.ops.profiler._record_function_exit(self.handle)\n",
            "  File \"/usr/local/lib/python3.9/dist-packages/torch/_ops.py\", line 442, in __call__\n",
            "    return self._op(*args, **kwargs or {})\n",
            "KeyboardInterrupt\n",
            "^C\n"
          ]
        }
      ],
      "source": [
        "# If the model has not been trained:\n",
        "!python3 w_train.py"
      ]
    },
    {
      "cell_type": "markdown",
      "metadata": {
        "id": "jdQe_AyNVALH"
      },
      "source": [
        "### Load the trained generator network"
      ]
    },
    {
      "cell_type": "code",
      "execution_count": null,
      "metadata": {
        "id": "G6q1XaClVALJ"
      },
      "outputs": [],
      "source": [
        "DEVICE = torch.device('cuda' if torch.cuda.is_available() else 'cpu')\n",
        "PATH_TO_MODEL = \"path/to/checkpoint.pt\" # SPECIFY\n",
        "\n",
        "# Laod the saved model/checkpoint\n",
        "model = torch.load(PATH_TO_MODEL)\n",
        "\n",
        "# Instantiate the generator and load its state dictionary from the checkpoint\n",
        "G = W_Generator()\n",
        "G.load_state_dict(model[\"G_state_dict\"])"
      ]
    },
    {
      "cell_type": "markdown",
      "metadata": {
        "id": "6QkN3o62VALK"
      },
      "source": [
        "### Run to generate a sample image"
      ]
    },
    {
      "cell_type": "code",
      "execution_count": null,
      "metadata": {
        "id": "n-V32sg2VALK"
      },
      "outputs": [],
      "source": [
        "# Keep these consistent with the value in train.py\n",
        "n_c_discrete = 10\n",
        "n_noise = 62\n",
        "n_c_continuous = 2\n",
        "\n",
        "G = G.to(DEVICE)\n",
        "\n",
        "# Put the generator in evaluation mode\n",
        "G.eval()\n",
        "\n",
        "with torch.no_grad():\n",
        "    # TODO: modifay so we can set concrete values for latent codes (not random).\n",
        "    z, c = sample_noise(1, n_noise, n_c_discrete, n_c_continuous, supervised=False)\n",
        "    c_discrete_code = torch.max(c[:, :-2], 1)[1].view(-1, 1)\n",
        "    print(\"Code: \" + str(c_discrete_code[0][0]))\n",
        "    fake_images = G(z, c)\n",
        "\n",
        "# Show the generated image\n",
        "plt.imshow(fake_images.squeeze().detach().cpu(), cmap='gray')\n",
        "plt.show()"
      ]
    }
  ],
  "metadata": {
    "kernelspec": {
      "display_name": "info2",
      "language": "python",
      "name": "python3"
    },
    "language_info": {
      "name": "python",
      "version": "3.10.9"
    },
    "orig_nbformat": 4,
    "vscode": {
      "interpreter": {
        "hash": "999bd6f6b42c287a72d5d73fa3c92a10a35ac3750e65bc80ca351872ad7d2ad4"
      }
    },
    "colab": {
      "provenance": [],
      "machine_shape": "hm"
    },
    "accelerator": "GPU",
    "gpuClass": "premium"
  },
  "nbformat": 4,
  "nbformat_minor": 0
}